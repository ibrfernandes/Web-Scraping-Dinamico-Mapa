{
 "cells": [
  {
   "cell_type": "markdown",
   "id": "11d98d99-83bd-440b-8d85-1a50911ccdfa",
   "metadata": {},
   "source": [
    "# lembre-se de substituir /caminho/ pelo caminho do seu diretorio"
   ]
  },
  {
   "cell_type": "code",
   "execution_count": null,
   "id": "8ee90cd5-0f33-4052-b3bb-b8323f508e73",
   "metadata": {},
   "outputs": [],
   "source": [
    "'''\n",
    "Usaremos os endereços extraidos dos sites para filtrar por região da cidade. Os endereços extraidos não seguem um padrão\n",
    "e alguns não apresentam os bairros, visto que os endereços no site era informado pelo usuário.\n",
    "Dessa forma usaremos o geocoders para obter o bairro a partir do nome da rua e utilizar esses bairros para fazer uma \n",
    "filtragem.\n",
    "\n",
    "OBS: o geocoders tem uma baixa especificidade, não levando em consideração o número da rua na sua busca. \n",
    "Dessa forma para algumas ruas que passam por mais \n",
    "de um bairro. Pode ocorrer que o bairro apontado não esteja 100% correto, mas já é uma forma de filtragem, \n",
    "precisando levar em consideração bairros vizinhos\n",
    "'''"
   ]
  },
  {
   "cell_type": "markdown",
   "id": "06dddd29-bd49-4c26-a68d-396b3c69a940",
   "metadata": {},
   "source": [
    "# codigo para bairro começa aqui"
   ]
  },
  {
   "cell_type": "code",
   "execution_count": null,
   "id": "a97131d5-5d37-469f-99ac-1b5913e144c4",
   "metadata": {},
   "outputs": [],
   "source": [
    "import pandas as pd\n",
    "import numpy as np\n",
    "import matplotlib.pyplot as plt\n",
    "import seaborn as srn\n",
    "import geopy\n",
    "import re\n",
    "import time\n",
    "import requests\n",
    "from geopy.geocoders import Nominatim\n",
    "\n",
    "geolocator = Nominatim(user_agent=\"mygeocode\")"
   ]
  },
  {
   "cell_type": "code",
   "execution_count": null,
   "id": "0ab658de-fd96-4c53-9a10-a7b2c7788027",
   "metadata": {
    "scrolled": true
   },
   "outputs": [],
   "source": [
    "#carrega arquivos selenium\n",
    "\n",
    "cabecalho = ['nome', 'endereco', 'crm', 'site']\n",
    "caminho_home = \"/home/caminho\"\n",
    "cainho_arquivo_dfs = caminho_home + \"/primeira_etapa_dados_medicos/dados_medicos_selenium.csv\"\n",
    "dfs = pd.read_csv(cainho_arquivo_dfs, sep = \";\", header=None)\n",
    "dfs.columns = cabecalho\n",
    "dfs.shape"
   ]
  },
  {
   "cell_type": "code",
   "execution_count": null,
   "id": "c6e808f2-b0ed-4c3f-9f15-56e0ab5feb15",
   "metadata": {
    "scrolled": true
   },
   "outputs": [],
   "source": [
    "\n",
    "dfs.drop_duplicates(keep='first',inplace=True)\n",
    "dfs.dropna(subset=\"endereco\", inplace=True)\n",
    "\n",
    "dfs.reset_index(drop=True,inplace =True)\n",
    "dfs.shape"
   ]
  },
  {
   "cell_type": "code",
   "execution_count": null,
   "id": "92d3474a-e0bf-40cf-aec9-5d4843127889",
   "metadata": {},
   "outputs": [],
   "source": [
    "def achar_rua(nome_rua_buscar):\n",
    "\n",
    "    \n",
    "    padrao = re.compile(r'^(?P<rua>.*?)\\s*(?P<numero>\\d+)')\n",
    "    correspondencia = padrao.search(nome_rua_buscar)\n",
    "    if correspondencia is not None:\n",
    "        resultado = f'{correspondencia[0]}'\n",
    "    else:\n",
    "        resultado = f'{nome_rua_buscar}'\n",
    "\n",
    "    return(resultado)\n",
    "\n",
    "def usar_geolocalizador(nome_da_rua):\n",
    "    local = geolocator.geocode(nome_da_rua)\n",
    "     \n",
    "    if local is not None:\n",
    "        retorno = local.address\n",
    "        \n",
    "    else:\n",
    "        retorno = \"None\"\n",
    "    \n",
    "    return(retorno)\n",
    "\n",
    "\n"
   ]
  },
  {
   "cell_type": "code",
   "execution_count": null,
   "id": "7b047f87-596d-4aab-80aa-a81e4ccc3cb3",
   "metadata": {
    "scrolled": true
   },
   "outputs": [],
   "source": [
    "\"\"\"\n",
    "como o geolocator demanda muito tempo, é preferivel salvar os dados para prosseguir\n",
    "\"\"\"\n",
    "cainho_arquivo_datas = caminho_home + \"/segunda-etapa_analise_dados_medicos/dados_medicos_geolocator.csv\"\n",
    "arquivo_datas = open(cainho_arquivo_datas, 'a+')\n",
    "arquivo_datas.write('nome;end_extraido_site;crm;site;end_novo')\n",
    "arquivo_datas.write('\\n')\n",
    "tabela_formatada = []\n",
    "a=0\n",
    "passos = 0\n",
    "total = len(dfs.endereco)\n",
    "atual = 0\n",
    "for i in range(len(dfs.endereco)):\n",
    "    time.sleep(2)\n",
    "    auxiliar = []\n",
    "    auxiliar.append(dfs.iloc[i,0])\n",
    "    auxiliar.append(dfs.iloc[i,1])\n",
    "    auxiliar.append(dfs.iloc[i,2])\n",
    "    auxiliar.append(dfs.iloc[i,3])\n",
    "    nome_rua_geo = achar_rua(str(dfs.iloc[i,1]))\n",
    "    if ( \"rua\" not in nome_rua_geo.lower() ) and (\"avenida\" not in nome_rua_geo.lower()):\n",
    "        nome_rua_geo = f'rua {nome_rua_geo}'\n",
    "    nome_rua_geo = f'{nome_rua_geo}, Minas Gerais, Belo Horizonte'\n",
    "    local_geo = geolocator.geocode(nome_rua_geo, timeout=10)\n",
    "    time.sleep(2)\n",
    "    print (f'------------------pesquisado {nome_rua_geo}')\n",
    "    print(local_geo)\n",
    "\n",
    "    if local_geo is not None:\n",
    "        auxiliar.append(str(local_geo))\n",
    "    else:\n",
    "        auxiliar.append(\"None\")\n",
    "\n",
    "    tabela_formatada.append(auxiliar)\n",
    "    time.sleep(1)\n",
    "    atual = atual + 1\n",
    "    passos = passos +1\n",
    "    salvar_esses_dados = f'{auxiliar[0]};{auxiliar[1]};{auxiliar[2]};{auxiliar[3]};{auxiliar[4]}'\n",
    "    print (f'------------------dados salvos')\n",
    "    print(salvar_esses_dados)\n",
    "    print(f'final {atual} de {total}')\n",
    "    arquivo_datas.write(salvar_esses_dados)\n",
    "    arquivo_datas.write('\\n')\n",
    "    if passos > 20 :\n",
    "        arquivo_datas.close()\n",
    "        arquivo_datas = open(cainho_arquivo_datas, 'a+')\n",
    "        passos = 0\n",
    "arquivo_datas.close()"
   ]
  },
  {
   "cell_type": "markdown",
   "id": "7f429ff3-60aa-4b00-a3db-5f8fc9b92235",
   "metadata": {},
   "source": [
    "# Codigo para achar bairro"
   ]
  },
  {
   "cell_type": "code",
   "execution_count": null,
   "id": "11551f25-00b3-4f37-9c0a-84d83f26ef7f",
   "metadata": {},
   "outputs": [],
   "source": [
    "import pandas as pd\n",
    "import numpy as np\n",
    "import matplotlib.pyplot as plt\n",
    "import seaborn as srn\n",
    "import geopy\n",
    "import re\n",
    "import time\n",
    "import copy\n",
    "\n",
    "from geopy.geocoders import Nominatim\n",
    "\n",
    "geolocator = Nominatim(user_agent=\"mygeocode\")"
   ]
  },
  {
   "cell_type": "code",
   "execution_count": null,
   "id": "d5261997-60bf-4024-8cc8-e80f82cffe6c",
   "metadata": {},
   "outputs": [],
   "source": [
    "\n",
    "dfa = pd.read_csv(cainho_arquivo_datas, sep = \";\")\n",
    "cabecalho = ['nome', 'end_extraido_site', 'crm', 'site', 'end_novo']\n",
    "dfa.columns = cabecalho\n",
    "dfa['bairros'] = [None] * len(dfa)\n",
    "dfa.dropna(subset=\"end_novo\", inplace=True)\n",
    "dfa.reset_index(drop=True,inplace =True)"
   ]
  },
  {
   "cell_type": "code",
   "execution_count": null,
   "id": "52f1ee0b-d73d-4911-beae-7ff5d07f9ad1",
   "metadata": {
    "scrolled": true
   },
   "outputs": [],
   "source": [
    "\n",
    "for i in range(len(dfa.end_novo)):\n",
    "    bairro = None\n",
    "    \n",
    "    endereco_fragmentado = dfa.iloc[i,4].split(', ')\n",
    "    for j in range(len(endereco_fragmentado)):\n",
    "        if \"rua\" in endereco_fragmentado[j].lower() or \"avenida\" in endereco_fragmentado[j].lower() or \"alameda\" in endereco_fragmentado[j].lower() or \"praça\" in endereco_fragmentado[j].lower():\n",
    "            dfa.iloc[i,5] = copy.deepcopy(endereco_fragmentado[j+1])\n",
    "dfa  "
   ]
  },
  {
   "cell_type": "code",
   "execution_count": null,
   "id": "bb4889ad-5ae4-4903-990e-3b3eb7a9ac04",
   "metadata": {},
   "outputs": [],
   "source": [
    "cainho_arquivo_bairros = caminho_home + \"/segunda-etapa_analise_dados_medicos/dados_medicos_geolocator_bairros.csv\"\n",
    "arquivo_datas = open(cainho_arquivo_bairros, 'w+')\n",
    "arquivo_datas.write(\"nome;end_extraido_site;crm;site;end_novo;bairros\")\n",
    "arquivo_datas.write('\\n')\n",
    "for i in range(len(dfa.end_novo)):\n",
    "    escrever = f'{dfa.iloc[i][0]};{dfa.iloc[i][1]};{dfa.iloc[i][2]};{dfa.iloc[i][3]};{dfa.iloc[i][4]};{dfa.iloc[i][5]}'\n",
    "    arquivo_datas.write(escrever)\n",
    "    arquivo_datas.write('\\n')\n",
    "arquivo_datas.close()"
   ]
  },
  {
   "cell_type": "code",
   "execution_count": null,
   "id": "137dcab2-08b7-409c-9cd3-5ef9223076cd",
   "metadata": {},
   "outputs": [],
   "source": []
  }
 ],
 "metadata": {
  "kernelspec": {
   "display_name": "Python 3 (ipykernel)",
   "language": "python",
   "name": "python3"
  },
  "language_info": {
   "codemirror_mode": {
    "name": "ipython",
    "version": 3
   },
   "file_extension": ".py",
   "mimetype": "text/x-python",
   "name": "python",
   "nbconvert_exporter": "python",
   "pygments_lexer": "ipython3",
   "version": "3.11.2"
  }
 },
 "nbformat": 4,
 "nbformat_minor": 5
}
