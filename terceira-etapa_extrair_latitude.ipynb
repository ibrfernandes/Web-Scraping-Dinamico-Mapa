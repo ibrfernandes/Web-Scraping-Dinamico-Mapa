{
 "cells": [
  {
   "cell_type": "markdown",
   "id": "e30caedb-af9b-4a72-93c7-b05f72600c77",
   "metadata": {},
   "source": [
    "# lembre-se de substituir /caminho/ pelo caminho do seu diretorio"
   ]
  },
  {
   "cell_type": "code",
   "execution_count": null,
   "id": "fdf1b0af-6526-4c6a-b949-38232a1d07dc",
   "metadata": {},
   "outputs": [],
   "source": [
    "import scrapy\n",
    "import time\n",
    "import random\n",
    "import sys\n",
    "import re\n",
    "import csv\n",
    "import pyautogui\n",
    "import pyperclip\n",
    "\n",
    "\n",
    "from selenium import webdriver\n",
    "from scrapy.http import HtmlResponse\n",
    "from time import sleep\n",
    "from selenium.webdriver.chrome.service import Service\n",
    "from selenium.webdriver.common.by import By\n",
    "from selenium.webdriver.chrome.options import Options\n",
    "from selenium.webdriver.common.keys import Keys as keys\n",
    "from scrapy.selector import Selector\n",
    "\n",
    "\n",
    "import pandas as pd\n",
    "import numpy as np\n",
    "import matplotlib.pyplot as plt\n",
    "import seaborn as srn\n",
    "import geopy\n",
    "\n",
    "\n",
    "from geopy.geocoders import Nominatim\n",
    "\n",
    "\n",
    "import folium\n",
    "from branca.element import Figure\n"
   ]
  },
  {
   "cell_type": "code",
   "execution_count": null,
   "id": "660c0037-b6a6-4843-a5ea-3ba782585dd2",
   "metadata": {},
   "outputs": [],
   "source": [
    "options = webdriver.ChromeOptions() \n",
    "options.add_argument(\"user-data-dir=/home/caminho/Perfil\")\n",
    "options.add_argument(\"profile-directory=Profile 2\")\n",
    "driver = webdriver.Chrome(executable_path=\"/home/caminho/chromedriver\", options=options)"
   ]
  },
  {
   "cell_type": "code",
   "execution_count": null,
   "id": "c837e8cf-182f-491e-a246-17d67fa9c024",
   "metadata": {},
   "outputs": [],
   "source": [
    "url_entrar = \"https://www.google.com.br/maps\"\n",
    "driver.get(url_entrar)"
   ]
  },
  {
   "cell_type": "code",
   "execution_count": null,
   "id": "fe774999-4fae-4041-accb-a1320e33a6c4",
   "metadata": {},
   "outputs": [],
   "source": [
    "def achar_rua(nome_rua_buscar):\n",
    "\n",
    "    padrao = re.compile(r'(?P<rua>.+?)\\s*(\\d+)')\n",
    "    correspondencia = padrao.search(nome_rua_buscar)\n",
    "    if correspondencia is not None:\n",
    "        resultado = f'{correspondencia[0]}'\n",
    "    else:\n",
    "        resultado = f'{nome_rua_buscar}'\n",
    "    return(resultado)"
   ]
  },
  {
   "cell_type": "code",
   "execution_count": null,
   "id": "9d6d108d-d573-435f-8667-cf6c42494e22",
   "metadata": {
    "scrolled": true
   },
   "outputs": [],
   "source": [
    "cainho_arquivo_bairros = \"/home/caminho/segunda-etapa_analise_dados_medicos/dados_medicos_geolocator_bairros.csv\"\n",
    "dfa = pd.read_csv(cainho_arquivo_bairros, sep = \";\")\n",
    "lista_bairro = ['Santa Efigênia', 'Funcionários', 'Savassi', 'Santo Agostinho', 'Lourdes', 'Centro', 'Barro Preto', 'Serra','Carmo']\n",
    "dfa = dfa.query(\"bairros in @lista_bairro\")\n",
    "dfa = dfa.reset_index(drop=True)\n",
    "dfa"
   ]
  },
  {
   "cell_type": "code",
   "execution_count": null,
   "id": "6585f50e-0f9a-4bf1-8611-cd5f94e05d1f",
   "metadata": {
    "scrolled": true
   },
   "outputs": [],
   "source": [
    "endereco = []\n",
    "for i in range(len(dfa.end_extraido_site)):\n",
    "    nome_rua_geo = achar_rua(dfa.iloc[i][1]).lower()\n",
    "    endereco.append(nome_rua_geo)\n",
    "\n",
    "endereco = set(endereco)\n",
    "endereco = list(endereco)\n",
    "len(endereco)"
   ]
  },
  {
   "cell_type": "code",
   "execution_count": null,
   "id": "fbc21ff3-81ae-45e4-bd36-7beb1a6af7f4",
   "metadata": {},
   "outputs": [],
   "source": [
    "caminho_coordenadas = \"/home/caminho/terceira-etapa_extrair_latitude/coordenadas.csv\"\n",
    "cidade_estado = \" belo horizonte - minas gerais\"\n",
    "arquivo_datas = open(caminho_coordenadas, 'a+')\n",
    "coordenadas = []\n",
    "#coloca na aba do google maps\n",
    "pyautogui.moveTo(x=39, y=127)\n",
    "time.sleep(3)\n",
    "pyautogui.click(x=39, y=127)\n",
    "time.sleep(3)\n",
    "pyautogui.click(x=214, y=311)\n",
    "time.sleep(1)\n",
    "try:\n",
    "    clicar = driver.find_elements(By.XPATH, '//*[@id=\"searchboxinput\"]')\n",
    "    clicar[0].click()\n",
    "    time.sleep(2)\n",
    "except Exception as e:\n",
    "    print(\"ferrou\")\n",
    "for i in range(len(endereco)):\n",
    "\n",
    "    aux_coordenadas=[]\n",
    "    #preenche o texto\n",
    "    texto = endereco[i] + cidade_estado\n",
    "    campo_texto = driver.find_element(By.XPATH, '//*[@id=\"searchboxinput\"]')\n",
    "    campo_texto.send_keys(keys.CONTROL + 'a')\n",
    "    campo_texto.send_keys(texto)\n",
    "    campo_texto.send_keys(keys.ENTER)\n",
    "    time.sleep(2)\n",
    "    #move para a coordenada da localizacao\n",
    "    pyautogui.moveTo(x=955, y=460)\n",
    "    time.sleep(2)\n",
    "    # clica como direito e depois com o esquerdo\n",
    "    pyautogui.click(button='right')\n",
    "    time.sleep(2)\n",
    "    pyautogui.click(x=1019, y=450)\n",
    "    time.sleep(1)\n",
    "\n",
    "    aux_coordenadas.append(endereco[i])\n",
    "    \n",
    "    colar= pyperclip.paste()\n",
    "    aux_coordenadas.append(colar)\n",
    "    coordenadas.append(aux_coordenadas)\n",
    "    escrever = f'{aux_coordenadas[0]};{aux_coordenadas[1]}'\n",
    "    arquivo_datas.write(escrever)\n",
    "    arquivo_datas.write('\\n')\n",
    "\n",
    "\n",
    "arquivo_datas.close()"
   ]
  },
  {
   "cell_type": "code",
   "execution_count": null,
   "id": "cc6cba51-e1d4-4902-9994-4eaea0dccb61",
   "metadata": {},
   "outputs": [],
   "source": [
    "coordenadas"
   ]
  },
  {
   "cell_type": "code",
   "execution_count": null,
   "id": "347c18cf-a75e-49c8-a8f5-b72e60ee24e2",
   "metadata": {},
   "outputs": [],
   "source": []
  }
 ],
 "metadata": {
  "kernelspec": {
   "display_name": "Python 3 (ipykernel)",
   "language": "python",
   "name": "python3"
  },
  "language_info": {
   "codemirror_mode": {
    "name": "ipython",
    "version": 3
   },
   "file_extension": ".py",
   "mimetype": "text/x-python",
   "name": "python",
   "nbconvert_exporter": "python",
   "pygments_lexer": "ipython3",
   "version": "3.11.2"
  }
 },
 "nbformat": 4,
 "nbformat_minor": 5
}
